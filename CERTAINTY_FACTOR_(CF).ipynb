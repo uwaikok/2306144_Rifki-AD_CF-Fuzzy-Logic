{
  "nbformat": 4,
  "nbformat_minor": 0,
  "metadata": {
    "colab": {
      "provenance": []
    },
    "kernelspec": {
      "name": "python3",
      "display_name": "Python 3"
    },
    "language_info": {
      "name": "python"
    }
  },
  "cells": [
    {
      "cell_type": "code",
      "execution_count": 1,
      "metadata": {
        "colab": {
          "base_uri": "https://localhost:8080/"
        },
        "id": "wUf2ZH6L_4Ox",
        "outputId": "86254d93-c77a-4554-d806-31f0dd021dc2"
      },
      "outputs": [
        {
          "output_type": "stream",
          "name": "stdout",
          "text": [
            "CF diagnosis Flu: 1.00\n"
          ]
        }
      ],
      "source": [
        "gejala_user = {\n",
        "    \"demam\": 0.7,\n",
        "    \"batuk\": 0.5,\n",
        "    \"sakit_tenggorokan\": 0.6,\n",
        "    \"pilek\": 0.8,\n",
        "    \"sakit_kepala\": 0.6,\n",
        "    \"lemas\": 0.7,\n",
        "    \"nyeri_otot\": 0.5,\n",
        "    \"bersin\": 0.9\n",
        "}\n",
        "\n",
        "pengetahuan = {\n",
        "    \"flu\": {\n",
        "        \"demam\": 0.8,\n",
        "        \"batuk\": 0.7,\n",
        "        \"sakit_tenggorokan\": 0.6,\n",
        "        \"pilek\": 0.9,\n",
        "        \"sakit_kepala\": 0.5,\n",
        "        \"lemas\": 0.6,\n",
        "        \"nyeri_otot\": 0.7,\n",
        "        \"bersin\": 0.8\n",
        "    }\n",
        "}\n",
        "\n",
        "def hitung_cf(gejala_user, pengetahuan_pakar):\n",
        "    cf_total = 0\n",
        "    first = True\n",
        "    for gejala, cf_user in gejala_user.items():\n",
        "        if gejala in pengetahuan_pakar:\n",
        "            cf_pakar = pengetahuan_pakar[gejala]\n",
        "            cf = cf_user * cf_pakar\n",
        "            if first:\n",
        "                cf_total = cf\n",
        "                first = False\n",
        "            else:\n",
        "                cf_total = cf_total + cf * (1 - cf_total)\n",
        "    return cf_total\n",
        "\n",
        "cf_flu = hitung_cf(gejala_user, pengetahuan[\"flu\"])\n",
        "print(f\"CF diagnosis Flu: {cf_flu:.2f}\")\n"
      ]
    },
    {
      "cell_type": "code",
      "source": [
        "gejala_user = {\n",
        "    \"nyeri_sendi\": 0.8,\n",
        "    \"bengkak_sendi\": 0.7,\n",
        "    \"kaku_sendi_pagi\": 0.9,\n",
        "    \"demam_ringan\": 0.3\n",
        "}\n",
        "\n",
        "pengetahuan = {\n",
        "    \"rheumatoid_arthritis\": {\n",
        "        \"nyeri_sendi\": 0.9,\n",
        "        \"bengkak_sendi\": 0.8,\n",
        "        \"kaku_sendi_pagi\": 0.9,\n",
        "        \"demam_ringan\": 0.4\n",
        "    },\n",
        "    \"osteoarthritis\": {\n",
        "        \"nyeri_sendi\": 0.8,\n",
        "        \"bengkak_sendi\": 0.6,\n",
        "        \"kaku_sendi_pagi\": 0.5\n",
        "    }\n",
        "}\n",
        "\n",
        "def hitung_cf(gejala_user, pengetahuan_pakar):\n",
        "    cf_total = 0\n",
        "    first = True\n",
        "    for gejala, cf_user in gejala_user.items():\n",
        "        if gejala in pengetahuan_pakar:\n",
        "            cf_pakar = pengetahuan_pakar[gejala]\n",
        "            cf = cf_user * cf_pakar\n",
        "            if first:\n",
        "                cf_total = cf\n",
        "                first = False\n",
        "            else:\n",
        "                cf_total = cf_total + cf * (1 - cf_total)\n",
        "    return cf_total\n",
        "\n",
        "# Mendiagnosa dua penyakit berdasarkan gejala yang sama\n",
        "for penyakit in pengetahuan:\n",
        "    cf_result = hitung_cf(gejala_user, pengetahuan[penyakit])\n",
        "    print(f\"CF diagnosis {penyakit}: {cf_result:.2f}\")\n"
      ],
      "metadata": {
        "colab": {
          "base_uri": "https://localhost:8080/"
        },
        "id": "RgrCRaEDIde4",
        "outputId": "83cd2b82-c22e-455f-d807-064996a616f1"
      },
      "execution_count": null,
      "outputs": [
        {
          "output_type": "stream",
          "name": "stdout",
          "text": [
            "CF diagnosis rheumatoid_arthritis: 0.98\n",
            "CF diagnosis osteoarthritis: 0.89\n"
          ]
        }
      ]
    },
    {
      "cell_type": "code",
      "source": [
        "# Example 4: Diabetes Diagnosis with Weighted Symptoms\n",
        "gejala_user = {\n",
        "    \"sering_haus\": 0.8,\n",
        "    \"sering_buang_air_kecil\": 0.9,\n",
        "    \"penurunan_berat_badan\": 0.6,\n",
        "    \"luka_lambat_sembuh\": 0.7,\n",
        "    \"penglihatan_kabur\": 0.5\n",
        "}\n",
        "\n",
        "# Pengetahuan pakar dengan bobot gejala\n",
        "pengetahuan = {\n",
        "    \"diabetes_tipe1\": {\n",
        "        \"sering_haus\": 0.9,\n",
        "        \"sering_buang_air_kecil\": 0.9,\n",
        "        \"penurunan_berat_badan\": 0.8,\n",
        "        \"luka_lambat_sembuh\": 0.5\n",
        "    },\n",
        "    \"diabetes_tipe2\": {\n",
        "        \"sering_haus\": 0.7,\n",
        "        \"sering_buang_air_kecil\": 0.7,\n",
        "        \"penurunan_berat_badan\": 0.6,\n",
        "        \"luka_lambat_sembuh\": 0.8,\n",
        "        \"penglihatan_kabur\": 0.6\n",
        "    }\n",
        "}\n",
        "\n",
        "# Bobot kepentingan gejala (1-5)\n",
        "bobot_gejala = {\n",
        "    \"sering_haus\": 4,\n",
        "    \"sering_buang_air_kecil\": 4,\n",
        "    \"penurunan_berat_badan\": 3,\n",
        "    \"luka_lambat_sembuh\": 5,\n",
        "    \"penglihatan_kabur\": 2\n",
        "}\n"
      ],
      "metadata": {
        "id": "gYFsDI2hI8rN"
      },
      "execution_count": null,
      "outputs": []
    },
    {
      "cell_type": "code",
      "source": [
        "def hitung_cf_weighted(gejala_user, pengetahuan_pakar, bobot):\n",
        "    cf_total = 0\n",
        "    first = True\n",
        "    total_bobot = 0\n",
        "\n",
        "    for gejala, cf_user in gejala_user.items():\n",
        "        if gejala in pengetahuan_pakar and gejala in bobot:\n",
        "            cf_pakar = pengetahuan_pakar[gejala]\n",
        "            gejala_weight = bobot[gejala] / 5  # Normalisasi bobot (1-5) -> (0.2-1.0)\n",
        "            cf = cf_user * cf_pakar * gejala_weight\n",
        "\n",
        "            if first:\n",
        "                cf_total = cf\n",
        "                first = False\n",
        "            else:\n",
        "                cf_total = cf_total + cf * (1 - cf_total)\n",
        "\n",
        "            total_bobot += gejala_weight\n",
        "\n",
        "    # Normalisasi hasil berdasarkan total bobot\n",
        "    if total_bobot > 0:\n",
        "        cf_total = cf_total / total_bobot * len([g for g in gejala_user if g in pengetahuan_pakar])\n",
        "\n",
        "    return cf_total\n",
        "\n",
        "for penyakit in pengetahuan:\n",
        "    cf_result = hitung_cf_weighted(gejala_user, pengetahuan[penyakit], bobot_gejala)\n",
        "    print(f\"CF diagnosis {penyakit}: {cf_result:.2f}\")\n"
      ],
      "metadata": {
        "colab": {
          "base_uri": "https://localhost:8080/"
        },
        "id": "EIcmL1XIJhTU",
        "outputId": "896cdc92-0edc-405f-abf7-b6567114ef3d"
      },
      "execution_count": null,
      "outputs": [
        {
          "output_type": "stream",
          "name": "stdout",
          "text": [
            "CF diagnosis diabetes_tipe1: 1.16\n",
            "CF diagnosis diabetes_tipe2: 1.27\n"
          ]
        }
      ]
    },
    {
      "cell_type": "markdown",
      "source": [
        "**Analisis Perubahan CF**\n",
        "\n",
        "- Nilai CF gejala **demam** diturunkan dari **0.7 ke 0.2**.\n",
        "- Meskipun **demam** adalah gejala penting, penurunan kontribusinya (dari 0.56 → 0.16) **tidak menurunkan hasil akhir secara signifikan**.\n",
        "- Hal ini karena:\n",
        "  - Gejala lain seperti **\"pilek\" (0.72)** dan **\"bersin\" (0.72)** memiliki nilai kontribusi besar.\n",
        "  - Metode perhitungan CF bersifat *kumulatif*, tetapi semakin tinggi CF total, kontribusi tambahan dari gejala berikutnya akan berkurang karena dikalikan dengan `(1 - CF_total)`.\n",
        "- Hasil akhir tetap tinggi: **CF diagnosis Flu = 0.99**\n",
        "\n",
        "\n",
        "Kesimpulan:\n",
        "Perubahan nilai satu gejala (meskipun penting) tidak selalu berdampak besar jika gejala lain mendukung kuat diagnosis tersebut."
      ],
      "metadata": {
        "id": "zeJm35Cyhg9x"
      }
    }
  ]
}